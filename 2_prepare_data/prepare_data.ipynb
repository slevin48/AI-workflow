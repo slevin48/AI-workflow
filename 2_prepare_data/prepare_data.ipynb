{
 "metadata": {
  "language_info": {
   "codemirror_mode": {
    "name": "ipython",
    "version": 3
   },
   "file_extension": ".py",
   "mimetype": "text/x-python",
   "name": "python",
   "nbconvert_exporter": "python",
   "pygments_lexer": "ipython3",
   "version": "3.7.6-final"
  },
  "orig_nbformat": 2,
  "kernelspec": {
   "name": "python3",
   "display_name": "Python 3.7.6 64-bit ('env')",
   "metadata": {
    "interpreter": {
     "hash": "d79f26fde9183cff29e339567998a4e88678b9ebf1b2ce71440c43e1e2faa6a9"
    }
   }
  }
 },
 "nbformat": 4,
 "nbformat_minor": 2,
 "cells": [
  {
   "source": [
    "# Prepare data\n"
   ],
   "cell_type": "markdown",
   "metadata": {}
  },
  {
   "cell_type": "code",
   "execution_count": 1,
   "metadata": {},
   "outputs": [],
   "source": [
    "def load_sample(sample):\n",
    "    image_files = np.loadtxt(sample + '/data.csv', delimiter=',', dtype=str, usecols=(0,))\n",
    "    joystick_values = np.loadtxt(sample + '/data.csv', delimiter=',', usecols=(1,2,3,4,5))\n",
    "    return image_files, joystick_values"
   ]
  },
  {
   "cell_type": "code",
   "execution_count": 3,
   "metadata": {},
   "outputs": [
    {
     "output_type": "execute_result",
     "data": {
      "text/plain": [
       "['2021-03-06-1',\n",
       " '2021-03-06-2',\n",
       " '2021-03-06-3',\n",
       " '2021-03-06-4',\n",
       " '2021-03-06-5',\n",
       " '2021-03-06-6',\n",
       " '2021-03-06-7',\n",
       " '2021-03-06-8',\n",
       " '2021-03-06-9']"
      ]
     },
     "metadata": {},
     "execution_count": 3
    }
   ],
   "source": [
    "import os\n",
    "samples = os.listdir(\"../samples\")\n",
    "samples"
   ]
  },
  {
   "cell_type": "code",
   "execution_count": 8,
   "metadata": {},
   "outputs": [],
   "source": [
    "import numpy as np"
   ]
  },
  {
   "cell_type": "code",
   "execution_count": 12,
   "metadata": {},
   "outputs": [
    {
     "output_type": "execute_result",
     "data": {
      "text/plain": [
       "(array(['samples/2021-03-06-1/img_0.png', 'samples/2021-03-06-1/img_1.png',\n",
       "        'samples/2021-03-06-1/img_2.png', ...,\n",
       "        'samples/2021-03-06-1/img_1669.png',\n",
       "        'samples/2021-03-06-1/img_1670.png',\n",
       "        'samples/2021-03-06-1/img_1671.png'], dtype='<U33'),\n",
       " array([[-0.01574707, -0.02362061,  0.        ,  0.        ,  0.        ],\n",
       "        [-0.01574707, -0.02362061,  0.        ,  0.        ,  0.        ],\n",
       "        [-0.01574707, -0.01574707,  0.        ,  0.        ,  0.        ],\n",
       "        ...,\n",
       "        [-0.00787354,  0.        ,  0.        ,  0.        ,  0.        ],\n",
       "        [-0.00787354,  0.        ,  0.        ,  0.        ,  0.        ],\n",
       "        [-0.01574707,  0.        ,  0.        ,  0.        ,  0.        ]]))"
      ]
     },
     "metadata": {},
     "execution_count": 12
    }
   ],
   "source": [
    "image_files, joystick_values = load_sample('../samples/'+samples[0])\n",
    "image_files,joystick_values"
   ]
  },
  {
   "cell_type": "code",
   "execution_count": 19,
   "metadata": {},
   "outputs": [],
   "source": [
    "\n",
    "from skimage.transform import resize\n",
    "from skimage.io import imread"
   ]
  },
  {
   "cell_type": "code",
   "execution_count": 23,
   "metadata": {},
   "outputs": [],
   "source": [
    "\n",
    "class Sample:\n",
    "    IMG_W = 200\n",
    "    IMG_H = 66\n",
    "    IMG_D = 3"
   ]
  },
  {
   "cell_type": "code",
   "execution_count": 21,
   "metadata": {},
   "outputs": [],
   "source": [
    "def resize_image(img):\n",
    "    im = resize(img, (Sample.IMG_H, Sample.IMG_W, Sample.IMG_D))\n",
    "    im_arr = im.reshape((Sample.IMG_H, Sample.IMG_W, Sample.IMG_D))\n",
    "    return im_arr"
   ]
  },
  {
   "cell_type": "code",
   "execution_count": 24,
   "metadata": {},
   "outputs": [
    {
     "output_type": "stream",
     "name": "stdout",
     "text": [
      "2021-03-06-1\n",
      "2021-03-06-2\n",
      "2021-03-06-3\n",
      "2021-03-06-4\n",
      "2021-03-06-5\n",
      "2021-03-06-6\n",
      "2021-03-06-7\n",
      "2021-03-06-8\n",
      "2021-03-06-9\n"
     ]
    }
   ],
   "source": [
    "X = []\n",
    "y = []\n",
    "\n",
    "for sample in samples:\n",
    "    print(sample)\n",
    "\n",
    "    # load sample\n",
    "    image_files, joystick_values = load_sample('../samples/'+sample)\n",
    "\n",
    "    # add joystick values to y\n",
    "    y.append(joystick_values)\n",
    "\n",
    "    # load, prepare and add images to X\n",
    "    for image_file in image_files:\n",
    "        image = imread('../'+image_file)\n",
    "        vec = resize_image(image)\n",
    "        X.append(vec)"
   ]
  },
  {
   "cell_type": "code",
   "execution_count": 27,
   "metadata": {},
   "outputs": [
    {
     "output_type": "stream",
     "name": "stdout",
     "text": [
      "Saving to file...\n"
     ]
    },
    {
     "output_type": "error",
     "ename": "ValueError",
     "evalue": "zero-dimensional arrays cannot be concatenated",
     "traceback": [
      "\u001b[1;31m---------------------------------------------------------------------------\u001b[0m",
      "\u001b[1;31mValueError\u001b[0m                                Traceback (most recent call last)",
      "\u001b[1;32m<ipython-input-27-ed77a5ecb064>\u001b[0m in \u001b[0;36m<module>\u001b[1;34m\u001b[0m\n\u001b[0;32m      1\u001b[0m \u001b[0mprint\u001b[0m\u001b[1;33m(\u001b[0m\u001b[1;34m\"Saving to file...\"\u001b[0m\u001b[1;33m)\u001b[0m\u001b[1;33m\u001b[0m\u001b[1;33m\u001b[0m\u001b[0m\n\u001b[0;32m      2\u001b[0m \u001b[0mX\u001b[0m \u001b[1;33m=\u001b[0m \u001b[0mnp\u001b[0m\u001b[1;33m.\u001b[0m\u001b[0masarray\u001b[0m\u001b[1;33m(\u001b[0m\u001b[0mX\u001b[0m\u001b[1;33m)\u001b[0m\u001b[1;33m\u001b[0m\u001b[1;33m\u001b[0m\u001b[0m\n\u001b[1;32m----> 3\u001b[1;33m \u001b[0my\u001b[0m \u001b[1;33m=\u001b[0m \u001b[0mnp\u001b[0m\u001b[1;33m.\u001b[0m\u001b[0mconcatenate\u001b[0m\u001b[1;33m(\u001b[0m\u001b[0my\u001b[0m\u001b[1;33m)\u001b[0m\u001b[1;33m\u001b[0m\u001b[1;33m\u001b[0m\u001b[0m\n\u001b[0m\u001b[0;32m      4\u001b[0m \u001b[1;33m\u001b[0m\u001b[0m\n\u001b[0;32m      5\u001b[0m \u001b[0mnp\u001b[0m\u001b[1;33m.\u001b[0m\u001b[0msave\u001b[0m\u001b[1;33m(\u001b[0m\u001b[1;34m\"data/X\"\u001b[0m\u001b[1;33m,\u001b[0m \u001b[0mX\u001b[0m\u001b[1;33m)\u001b[0m\u001b[1;33m\u001b[0m\u001b[1;33m\u001b[0m\u001b[0m\n",
      "\u001b[1;32m<__array_function__ internals>\u001b[0m in \u001b[0;36mconcatenate\u001b[1;34m(*args, **kwargs)\u001b[0m\n",
      "\u001b[1;31mValueError\u001b[0m: zero-dimensional arrays cannot be concatenated"
     ]
    }
   ],
   "source": [
    "\n",
    "print(\"Saving to file...\")\n",
    "X = np.asarray(X)\n",
    "y = np.concatenate(y)\n"
   ]
  },
  {
   "cell_type": "code",
   "execution_count": 29,
   "metadata": {},
   "outputs": [],
   "source": [
    "\n",
    "np.save(\"../data/X\", X)\n",
    "np.save(\"../data/y\", y)"
   ]
  }
 ]
}